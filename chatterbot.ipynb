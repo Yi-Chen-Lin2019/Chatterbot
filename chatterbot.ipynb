{
  "nbformat": 4,
  "nbformat_minor": 0,
  "metadata": {
    "colab": {
      "name": "chatterbot.ipynb",
      "provenance": [],
      "authorship_tag": "ABX9TyMX+oOW0jJqq8ykhiCxFFrA",
      "include_colab_link": true
    },
    "kernelspec": {
      "name": "python3",
      "display_name": "Python 3"
    }
  },
  "cells": [
    {
      "cell_type": "markdown",
      "metadata": {
        "id": "view-in-github",
        "colab_type": "text"
      },
      "source": [
        "<a href=\"https://colab.research.google.com/github/Yi-Chen-Lin2019/Chatterbot/blob/main/chatterbot.ipynb\" target=\"_parent\"><img src=\"https://colab.research.google.com/assets/colab-badge.svg\" alt=\"Open In Colab\"/></a>"
      ]
    },
    {
      "cell_type": "code",
      "metadata": {
        "colab": {
          "base_uri": "https://localhost:8080/"
        },
        "id": "gMdldDIuUDJp",
        "outputId": "ec970771-0c62-414c-d405-1ea85c423646"
      },
      "source": [
        "pip install chatterbot"
      ],
      "execution_count": null,
      "outputs": [
        {
          "output_type": "stream",
          "text": [
            "Requirement already satisfied: chatterbot in /usr/local/lib/python3.7/dist-packages (1.0.8)\n",
            "Requirement already satisfied: sqlalchemy<1.4,>=1.3 in /usr/local/lib/python3.7/dist-packages (from chatterbot) (1.3.23)\n",
            "Requirement already satisfied: python-dateutil<2.9,>=2.8 in /usr/local/lib/python3.7/dist-packages (from chatterbot) (2.8.1)\n",
            "Requirement already satisfied: pytz in /usr/local/lib/python3.7/dist-packages (from chatterbot) (2018.9)\n",
            "Requirement already satisfied: mathparse<0.2,>=0.1 in /usr/local/lib/python3.7/dist-packages (from chatterbot) (0.1.2)\n",
            "Requirement already satisfied: six>=1.5 in /usr/local/lib/python3.7/dist-packages (from python-dateutil<2.9,>=2.8->chatterbot) (1.15.0)\n"
          ],
          "name": "stdout"
        }
      ]
    },
    {
      "cell_type": "code",
      "metadata": {
        "colab": {
          "base_uri": "https://localhost:8080/"
        },
        "id": "68F7Ptkvtq04",
        "outputId": "cad1e4b3-c048-48af-c9b3-8528a04e9e3b"
      },
      "source": [
        "pip install chatterbot_corpus"
      ],
      "execution_count": null,
      "outputs": [
        {
          "output_type": "stream",
          "text": [
            "Collecting chatterbot_corpus\n",
            "\u001b[?25l  Downloading https://files.pythonhosted.org/packages/ed/19/f8b41daf36fe4b0f43e283a820362ffdb2c1128600ab4ee187e84262fa4d/chatterbot_corpus-1.2.0-py2.py3-none-any.whl (117kB)\n",
            "\r\u001b[K     |██▉                             | 10kB 13.6MB/s eta 0:00:01\r\u001b[K     |█████▋                          | 20kB 18.9MB/s eta 0:00:01\r\u001b[K     |████████▍                       | 30kB 7.6MB/s eta 0:00:01\r\u001b[K     |███████████▏                    | 40kB 6.7MB/s eta 0:00:01\r\u001b[K     |██████████████                  | 51kB 4.3MB/s eta 0:00:01\r\u001b[K     |████████████████▊               | 61kB 4.5MB/s eta 0:00:01\r\u001b[K     |███████████████████▋            | 71kB 4.8MB/s eta 0:00:01\r\u001b[K     |██████████████████████▍         | 81kB 5.0MB/s eta 0:00:01\r\u001b[K     |█████████████████████████▏      | 92kB 5.2MB/s eta 0:00:01\r\u001b[K     |████████████████████████████    | 102kB 5.2MB/s eta 0:00:01\r\u001b[K     |██████████████████████████████▊ | 112kB 5.2MB/s eta 0:00:01\r\u001b[K     |████████████████████████████████| 122kB 5.2MB/s \n",
            "\u001b[?25hRequirement already satisfied: PyYAML<4.0,>=3.12 in /usr/local/lib/python3.7/dist-packages (from chatterbot_corpus) (3.13)\n",
            "Installing collected packages: chatterbot-corpus\n",
            "Successfully installed chatterbot-corpus-1.2.0\n"
          ],
          "name": "stdout"
        }
      ]
    },
    {
      "cell_type": "code",
      "metadata": {
        "id": "s3yquqglUdMn"
      },
      "source": [
        "from chatterbot import ChatBot\n",
        "chatbot = ChatBot(\"Greeting\")"
      ],
      "execution_count": 11,
      "outputs": []
    },
    {
      "cell_type": "code",
      "metadata": {
        "colab": {
          "base_uri": "https://localhost:8080/"
        },
        "id": "VEJJA3fiUj-M",
        "outputId": "686a7add-b91d-4d41-c6ba-1734994967bf"
      },
      "source": [
        "from chatterbot.trainers import ListTrainer\n",
        "\n",
        "conversation = [\n",
        "    \"Hello\",\n",
        "    \"Hi there!\",\n",
        "    \"How are you doing?\",\n",
        "    \"I'm doing great.\",\n",
        "    \"That is good to hear\",\n",
        "    \"Thank you.\",\n",
        "    \"You're welcome.\"\n",
        "]\n",
        "\n",
        "trainer = ListTrainer(chatbot)\n",
        "\n",
        "trainer.train(conversation)"
      ],
      "execution_count": null,
      "outputs": [
        {
          "output_type": "stream",
          "text": [
            "List Trainer: [####################] 100%\n"
          ],
          "name": "stdout"
        }
      ]
    },
    {
      "cell_type": "code",
      "metadata": {
        "colab": {
          "base_uri": "https://localhost:8080/"
        },
        "id": "JYQ1eaP9njXe",
        "outputId": "a64e137d-78d2-4d12-cd0b-8d06d6631a22"
      },
      "source": [
        "from chatterbot import ChatBot\n",
        "from chatterbot.trainers import ChatterBotCorpusTrainer\n",
        "\n",
        "trainer = ChatterBotCorpusTrainer(chatbot)\n",
        "\n",
        "trainer.train('chatterbot.corpus.english')"
      ],
      "execution_count": 12,
      "outputs": [
        {
          "output_type": "stream",
          "text": [
            "Training ai.yml: [####################] 100%\n",
            "Training botprofile.yml: [####################] 100%\n",
            "Training computers.yml: [####################] 100%\n",
            "Training conversations.yml: [####################] 100%\n",
            "Training emotion.yml: [####################] 100%\n",
            "Training food.yml: [####################] 100%\n",
            "Training gossip.yml: [####################] 100%\n",
            "Training greetings.yml: [####################] 100%\n",
            "Training health.yml: [####################] 100%\n",
            "Training history.yml: [####################] 100%\n",
            "Training humor.yml: [####################] 100%\n",
            "Training literature.yml: [####################] 100%\n",
            "Training money.yml: [####################] 100%\n",
            "Training movies.yml: [####################] 100%\n",
            "Training politics.yml: [####################] 100%\n",
            "Training psychology.yml: [####################] 100%\n",
            "Training science.yml: [####################] 100%\n",
            "Training sports.yml: [####################] 100%\n",
            "Training trivia.yml: [####################] 100%\n"
          ],
          "name": "stdout"
        }
      ]
    },
    {
      "cell_type": "code",
      "metadata": {
        "colab": {
          "base_uri": "https://localhost:8080/"
        },
        "id": "6-AC1mxuUnV4",
        "outputId": "814cddfd-0577-4ee6-f0a1-cc96d74cab24"
      },
      "source": [
        "while True: \n",
        "  request = input('You: ')\n",
        "  response = chatbot.get_response(request)\n",
        "  print('Bot: ', response)\n",
        "\n"
      ],
      "execution_count": null,
      "outputs": [
        {
          "output_type": "stream",
          "text": [
            "Bot:  Hi\n",
            "Bot:  I have a fever\n",
            "Bot:  Random system crashes.\n",
            "Bot:  I am doing well.\n",
            "Bot:  I'm a computer, I can't eat or drink.\n",
            "Bot:  do you eat\n",
            "Bot:  That is a hypothetical question.\n",
            "Bot:  Do you hate anyone\n",
            "Bot:  I believe they said Dr. Smith on the phone.\n",
            "Bot:  I am a Real Madrid fan, and you?\n",
            "Bot:  Context is hard. It's hard, and no one understands.\n",
            "Bot:  I can't read.\n",
            "Bot:  Did I ever live?\n",
            "Bot:  Will you die?\n",
            "Bot:  I seem incapable of feeling pain.\n",
            "Bot:  Should I be? Did something happen?\n",
            "Bot:  The thing you're using to talk to me is a computer.\n",
            "You: hi\n",
            "Bot:  How are you doing?\n"
          ],
          "name": "stdout"
        }
      ]
    }
  ]
}